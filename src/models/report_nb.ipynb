{
 "cells": [
  {
   "cell_type": "code",
   "execution_count": 1,
   "metadata": {},
   "outputs": [],
   "source": [
    "import warnings\n",
    "\n",
    "def fxn():\n",
    "    warnings.warn(\"FutureWarning\", DeprecationWarning)\n",
    "\n",
    "with warnings.catch_warnings():\n",
    "    warnings.simplefilter(\"ignore\")\n",
    "    fxn()"
   ]
  },
  {
   "cell_type": "code",
   "execution_count": 2,
   "metadata": {
    "tags": [
     "parameters"
    ]
   },
   "outputs": [],
   "source": [
    "# clf_name = \"<clf_name>\"\n",
    "clf_name = 'GMM_basic'"
   ]
  },
  {
   "cell_type": "code",
   "execution_count": 3,
   "metadata": {},
   "outputs": [
    {
     "name": "stderr",
     "output_type": "stream",
     "text": [
      "Using TensorFlow backend.\n",
      "/home/christian/.venvs/py36/lib/python3.6/site-packages/tensorflow/python/framework/dtypes.py:516: FutureWarning: Passing (type, 1) or '1type' as a synonym of type is deprecated; in a future version of numpy, it will be understood as (type, (1,)) / '(1,)type'.\n",
      "  _np_qint8 = np.dtype([(\"qint8\", np.int8, 1)])\n",
      "/home/christian/.venvs/py36/lib/python3.6/site-packages/tensorflow/python/framework/dtypes.py:517: FutureWarning: Passing (type, 1) or '1type' as a synonym of type is deprecated; in a future version of numpy, it will be understood as (type, (1,)) / '(1,)type'.\n",
      "  _np_quint8 = np.dtype([(\"quint8\", np.uint8, 1)])\n",
      "/home/christian/.venvs/py36/lib/python3.6/site-packages/tensorflow/python/framework/dtypes.py:518: FutureWarning: Passing (type, 1) or '1type' as a synonym of type is deprecated; in a future version of numpy, it will be understood as (type, (1,)) / '(1,)type'.\n",
      "  _np_qint16 = np.dtype([(\"qint16\", np.int16, 1)])\n",
      "/home/christian/.venvs/py36/lib/python3.6/site-packages/tensorflow/python/framework/dtypes.py:519: FutureWarning: Passing (type, 1) or '1type' as a synonym of type is deprecated; in a future version of numpy, it will be understood as (type, (1,)) / '(1,)type'.\n",
      "  _np_quint16 = np.dtype([(\"quint16\", np.uint16, 1)])\n",
      "/home/christian/.venvs/py36/lib/python3.6/site-packages/tensorflow/python/framework/dtypes.py:520: FutureWarning: Passing (type, 1) or '1type' as a synonym of type is deprecated; in a future version of numpy, it will be understood as (type, (1,)) / '(1,)type'.\n",
      "  _np_qint32 = np.dtype([(\"qint32\", np.int32, 1)])\n",
      "/home/christian/.venvs/py36/lib/python3.6/site-packages/tensorflow/python/framework/dtypes.py:525: FutureWarning: Passing (type, 1) or '1type' as a synonym of type is deprecated; in a future version of numpy, it will be understood as (type, (1,)) / '(1,)type'.\n",
      "  np_resource = np.dtype([(\"resource\", np.ubyte, 1)])\n"
     ]
    },
    {
     "name": "stdout",
     "output_type": "stream",
     "text": [
      "/media/win-d/myfiles/2019/emodb-classifier\n",
      "/media/win-d/myfiles/2019/emodb-classifier\n"
     ]
    },
    {
     "name": "stderr",
     "output_type": "stream",
     "text": [
      "/home/christian/.venvs/py36/lib/python3.6/site-packages/tensorboard/compat/tensorflow_stub/dtypes.py:541: FutureWarning: Passing (type, 1) or '1type' as a synonym of type is deprecated; in a future version of numpy, it will be understood as (type, (1,)) / '(1,)type'.\n",
      "  _np_qint8 = np.dtype([(\"qint8\", np.int8, 1)])\n",
      "/home/christian/.venvs/py36/lib/python3.6/site-packages/tensorboard/compat/tensorflow_stub/dtypes.py:542: FutureWarning: Passing (type, 1) or '1type' as a synonym of type is deprecated; in a future version of numpy, it will be understood as (type, (1,)) / '(1,)type'.\n",
      "  _np_quint8 = np.dtype([(\"quint8\", np.uint8, 1)])\n",
      "/home/christian/.venvs/py36/lib/python3.6/site-packages/tensorboard/compat/tensorflow_stub/dtypes.py:543: FutureWarning: Passing (type, 1) or '1type' as a synonym of type is deprecated; in a future version of numpy, it will be understood as (type, (1,)) / '(1,)type'.\n",
      "  _np_qint16 = np.dtype([(\"qint16\", np.int16, 1)])\n",
      "/home/christian/.venvs/py36/lib/python3.6/site-packages/tensorboard/compat/tensorflow_stub/dtypes.py:544: FutureWarning: Passing (type, 1) or '1type' as a synonym of type is deprecated; in a future version of numpy, it will be understood as (type, (1,)) / '(1,)type'.\n",
      "  _np_quint16 = np.dtype([(\"quint16\", np.uint16, 1)])\n",
      "/home/christian/.venvs/py36/lib/python3.6/site-packages/tensorboard/compat/tensorflow_stub/dtypes.py:545: FutureWarning: Passing (type, 1) or '1type' as a synonym of type is deprecated; in a future version of numpy, it will be understood as (type, (1,)) / '(1,)type'.\n",
      "  _np_qint32 = np.dtype([(\"qint32\", np.int32, 1)])\n",
      "/home/christian/.venvs/py36/lib/python3.6/site-packages/tensorboard/compat/tensorflow_stub/dtypes.py:550: FutureWarning: Passing (type, 1) or '1type' as a synonym of type is deprecated; in a future version of numpy, it will be understood as (type, (1,)) / '(1,)type'.\n",
      "  np_resource = np.dtype([(\"resource\", np.ubyte, 1)])\n",
      "/home/christian/.venvs/py36/lib/python3.6/site-packages/sklearn/externals/joblib/__init__.py:15: DeprecationWarning: sklearn.externals.joblib is deprecated in 0.21 and will be removed in 0.23. Please import this functionality directly from joblib, which can be installed with: pip install joblib. If this warning is raised when loading pickled models, you may need to re-serialize those models with scikit-learn 0.21+.\n",
      "  warnings.warn(msg, category=DeprecationWarning)\n"
     ]
    }
   ],
   "source": [
    "import os\n",
    "import dotenv\n",
    "import sys\n",
    "import pandas as pd\n",
    "import numpy as np\n",
    "\n",
    "from IPython.display import Markdown as md\n",
    "\n",
    "from sklearn.model_selection import train_test_split\n",
    "\n",
    "import matplotlib.pyplot as plt\n",
    "\n",
    "from collections import Counter\n",
    "\n",
    "from imblearn.over_sampling import SMOTE  # doctest: +NORMALIZE_WHITESPACE\n",
    "from sklearn import preprocessing, svm  # noqa\n",
    "from sklearn.datasets import make_classification  # noqa\n",
    "from sklearn.metrics import (accuracy_score, classification_report,  # noqa\n",
    "                             confusion_matrix, f1_score, make_scorer,\n",
    "                             precision_recall_fscore_support)\n",
    "from sklearn.mixture import GaussianMixture as GMM\n",
    "from sklearn.pipeline import Pipeline\n",
    "from sklearn.preprocessing import LabelBinarizer, LabelEncoder, OneHotEncoder  # noqa\n",
    "from sklearn.externals import joblib\n",
    "\n",
    "project_dir = os.path.dirname(os.path.dirname(os.path.abspath('')))  # might be __file__\n",
    "# project_dir = os.path.dirname(os.path.abspath(''))  # might be __file__\n",
    "\n",
    "print(project_dir)\n",
    "sys.path.insert(0, os.path.join(project_dir, 'src'))\n",
    "from utils.utilities import nzvKJ, plot_confusionmatrix, emotion_codes  # noqa\n",
    "\n",
    "from features.custom_transformers import (ColumnExtractor, DateDiffer, # noqa\n",
    "                                          DateFormatter, DFFeatureUnion,\n",
    "                                          DFImputer, DFRobustScaler,\n",
    "                                          DummyTransformer, Log1pTransformer,\n",
    "                                          MultiEncoder, ZeroFillTransformer)\n",
    "\n",
    "\n",
    "from models.train_model import get_data\n",
    "\n"
   ]
  },
  {
   "cell_type": "code",
   "execution_count": 4,
   "metadata": {},
   "outputs": [
    {
     "name": "stdout",
     "output_type": "stream",
     "text": [
      "loading canned classifier\n",
      "classifier:  /media/win-d/myfiles/2019/emodb-classifier/models/clf_GMM_basic.pkl\n",
      "pipeline:  /media/win-d/myfiles/2019/emodb-classifier/models/prepro_pipeline_GMM_basic.pkl\n"
     ]
    },
    {
     "name": "stderr",
     "output_type": "stream",
     "text": [
      "/home/christian/.venvs/py36/lib/python3.6/site-packages/sklearn/preprocessing/label.py:219: DataConversionWarning: A column-vector y was passed when a 1d array was expected. Please change the shape of y to (n_samples, ), for example using ravel().\n",
      "  y = column_or_1d(y, warn=True)\n",
      "/home/christian/.venvs/py36/lib/python3.6/site-packages/sklearn/preprocessing/label.py:235: DataConversionWarning: A column-vector y was passed when a 1d array was expected. Please change the shape of y to (n_samples, ), for example using ravel().\n",
      "  y = column_or_1d(y, warn=True)\n"
     ]
    }
   ],
   "source": [
    "np.set_printoptions(precision=2)\n",
    "\n",
    "df, df_train, df_test, y_train, y_test = get_data()\n",
    "\n",
    "model_dir = os.path.join(project_dir, 'models')\n",
    "\n",
    "print('loading canned classifier')\n",
    "clf_fname = os.path.join(model_dir, 'clf_'+clf_name+'.pkl')\n",
    "print('classifier: ', clf_fname)\n",
    "clf = joblib.load(clf_fname)\n",
    "\n",
    "pipeline_fname = os.path.join(model_dir, 'prepro_pipeline_'+clf_name+'.pkl')\n",
    "print('pipeline: ', pipeline_fname)\n",
    "pipeline = joblib.load(pipeline_fname)\n",
    "\n",
    "#label_enc_fname = os.path.join(model_dir, 'label_encoder_'+clf_name+'.pkl')\n",
    "#print('y encoder: ', label_enc_fname)\n",
    "#label_encoder = joblib.load(label_enc_fname)\n",
    "\n",
    "# pickling not working!!\n",
    "label_encoder = LabelEncoder()\n",
    "label_encoder.fit(np.array(y_train.values))\n",
    "y_train_t = label_encoder.fit_transform(np.array(y_train.values))\n",
    "y_test_enc = label_encoder.fit_transform(y_test)\n",
    "\n",
    "X_test_t = pipeline.transform(df_test)\n",
    "y_pred = clf.predict(X_test_t)\n",
    "\n",
    "# print(classification_report(y_test_enc, y_pred))\n",
    "\n",
    "label2emocode = dict(zip([x for x in range(len(label_encoder.classes_))], label_encoder.classes_))\n",
    "label2emotions = dict()\n",
    "for k, v in label2emocode.items():\n",
    "    label2emotions[str(k)] = emotion_codes()[v]\n",
    "\n",
    "\n",
    "\n",
    "labels = [emotion_codes()[x] for x in label_encoder.classes_]\n"
   ]
  },
  {
   "cell_type": "code",
   "execution_count": 5,
   "metadata": {},
   "outputs": [],
   "source": [
    "clf_report = classification_report(y_test_enc, y_pred,\n",
    "                               output_dict=True,\n",
    "                               target_names=label2emotions.values())\n",
    "\n",
    "df_report = pd.DataFrame(clf_report)"
   ]
  },
  {
   "cell_type": "code",
   "execution_count": 6,
   "metadata": {},
   "outputs": [
    {
     "data": {
      "text/markdown": [
       "# Classifcation Report for Classifier: GMM_basic"
      ],
      "text/plain": [
       "<IPython.core.display.Markdown object>"
      ]
     },
     "execution_count": 6,
     "metadata": {},
     "output_type": "execute_result"
    }
   ],
   "source": [
    "md(\"# Classifcation Report for Classifier: %s\"%(clf_name))"
   ]
  },
  {
   "cell_type": "code",
   "execution_count": 7,
   "metadata": {},
   "outputs": [
    {
     "data": {
      "image/png": "[encoded data removed]",
      "text/plain": [
       "<Figure size 432x288 with 2 Axes>"
      ]
     },
     "metadata": {
      "needs_background": "light"
     },
     "output_type": "display_data"
    }
   ],
   "source": [
    "plot_confusionmatrix(clf, y_test_enc, y_pred, labels, cmap=plt.cm.Blues)"
   ]
  },
  {
   "cell_type": "code",
   "execution_count": 10,
   "metadata": {},
   "outputs": [
    {
     "data": {
      "text/html": [
       "<style  type=\"text/css\" >\n",
       "</style>  \n",
       "<table id=\"T_7dd70842_1ad7_11ea_8cbe_9cb6d0bf5aed\" > \n",
       "<thead>    <tr> \n",
       "        <th class=\"blank level0\" ></th> \n",
       "        <th class=\"col_heading level0 col0\" >f1-score</th> \n",
       "        <th class=\"col_heading level0 col1\" >precision</th> \n",
       "        <th class=\"col_heading level0 col2\" >recall</th> \n",
       "        <th class=\"col_heading level0 col3\" >support</th> \n",
       "    </tr></thead> \n",
       "<tbody>    <tr> \n",
       "        <th id=\"T_7dd70842_1ad7_11ea_8cbe_9cb6d0bf5aedlevel0_row0\" class=\"row_heading level0 row0\" >Angst</th> \n",
       "        <td id=\"T_7dd70842_1ad7_11ea_8cbe_9cb6d0bf5aedrow0_col0\" class=\"data row0 col0\" >0.46</td> \n",
       "        <td id=\"T_7dd70842_1ad7_11ea_8cbe_9cb6d0bf5aedrow0_col1\" class=\"data row0 col1\" >0.41</td> \n",
       "        <td id=\"T_7dd70842_1ad7_11ea_8cbe_9cb6d0bf5aedrow0_col2\" class=\"data row0 col2\" >0.54</td> \n",
       "        <td id=\"T_7dd70842_1ad7_11ea_8cbe_9cb6d0bf5aedrow0_col3\" class=\"data row0 col3\" >24</td> \n",
       "    </tr>    <tr> \n",
       "        <th id=\"T_7dd70842_1ad7_11ea_8cbe_9cb6d0bf5aedlevel0_row1\" class=\"row_heading level0 row1\" >Ekel</th> \n",
       "        <td id=\"T_7dd70842_1ad7_11ea_8cbe_9cb6d0bf5aedrow1_col0\" class=\"data row1 col0\" >0.2</td> \n",
       "        <td id=\"T_7dd70842_1ad7_11ea_8cbe_9cb6d0bf5aedrow1_col1\" class=\"data row1 col1\" >0.5</td> \n",
       "        <td id=\"T_7dd70842_1ad7_11ea_8cbe_9cb6d0bf5aedrow1_col2\" class=\"data row1 col2\" >0.12</td> \n",
       "        <td id=\"T_7dd70842_1ad7_11ea_8cbe_9cb6d0bf5aedrow1_col3\" class=\"data row1 col3\" >8</td> \n",
       "    </tr>    <tr> \n",
       "        <th id=\"T_7dd70842_1ad7_11ea_8cbe_9cb6d0bf5aedlevel0_row2\" class=\"row_heading level0 row2\" >Freude</th> \n",
       "        <td id=\"T_7dd70842_1ad7_11ea_8cbe_9cb6d0bf5aedrow2_col0\" class=\"data row2 col0\" >0.3</td> \n",
       "        <td id=\"T_7dd70842_1ad7_11ea_8cbe_9cb6d0bf5aedrow2_col1\" class=\"data row2 col1\" >0.23</td> \n",
       "        <td id=\"T_7dd70842_1ad7_11ea_8cbe_9cb6d0bf5aedrow2_col2\" class=\"data row2 col2\" >0.42</td> \n",
       "        <td id=\"T_7dd70842_1ad7_11ea_8cbe_9cb6d0bf5aedrow2_col3\" class=\"data row2 col3\" >26</td> \n",
       "    </tr>    <tr> \n",
       "        <th id=\"T_7dd70842_1ad7_11ea_8cbe_9cb6d0bf5aedlevel0_row3\" class=\"row_heading level0 row3\" >Langeweile</th> \n",
       "        <td id=\"T_7dd70842_1ad7_11ea_8cbe_9cb6d0bf5aedrow3_col0\" class=\"data row3 col0\" >0.68</td> \n",
       "        <td id=\"T_7dd70842_1ad7_11ea_8cbe_9cb6d0bf5aedrow3_col1\" class=\"data row3 col1\" >0.75</td> \n",
       "        <td id=\"T_7dd70842_1ad7_11ea_8cbe_9cb6d0bf5aedrow3_col2\" class=\"data row3 col2\" >0.62</td> \n",
       "        <td id=\"T_7dd70842_1ad7_11ea_8cbe_9cb6d0bf5aedrow3_col3\" class=\"data row3 col3\" >29</td> \n",
       "    </tr>    <tr> \n",
       "        <th id=\"T_7dd70842_1ad7_11ea_8cbe_9cb6d0bf5aedlevel0_row4\" class=\"row_heading level0 row4\" >Neutral</th> \n",
       "        <td id=\"T_7dd70842_1ad7_11ea_8cbe_9cb6d0bf5aedrow4_col0\" class=\"data row4 col0\" >0.57</td> \n",
       "        <td id=\"T_7dd70842_1ad7_11ea_8cbe_9cb6d0bf5aedrow4_col1\" class=\"data row4 col1\" >0.59</td> \n",
       "        <td id=\"T_7dd70842_1ad7_11ea_8cbe_9cb6d0bf5aedrow4_col2\" class=\"data row4 col2\" >0.56</td> \n",
       "        <td id=\"T_7dd70842_1ad7_11ea_8cbe_9cb6d0bf5aedrow4_col3\" class=\"data row4 col3\" >36</td> \n",
       "    </tr>    <tr> \n",
       "        <th id=\"T_7dd70842_1ad7_11ea_8cbe_9cb6d0bf5aedlevel0_row5\" class=\"row_heading level0 row5\" >Trauer</th> \n",
       "        <td id=\"T_7dd70842_1ad7_11ea_8cbe_9cb6d0bf5aedrow5_col0\" class=\"data row5 col0\" >0.89</td> \n",
       "        <td id=\"T_7dd70842_1ad7_11ea_8cbe_9cb6d0bf5aedrow5_col1\" class=\"data row5 col1\" >0.95</td> \n",
       "        <td id=\"T_7dd70842_1ad7_11ea_8cbe_9cb6d0bf5aedrow5_col2\" class=\"data row5 col2\" >0.83</td> \n",
       "        <td id=\"T_7dd70842_1ad7_11ea_8cbe_9cb6d0bf5aedrow5_col3\" class=\"data row5 col3\" >24</td> \n",
       "    </tr>    <tr> \n",
       "        <th id=\"T_7dd70842_1ad7_11ea_8cbe_9cb6d0bf5aedlevel0_row6\" class=\"row_heading level0 row6\" >Ärger (Wut)</th> \n",
       "        <td id=\"T_7dd70842_1ad7_11ea_8cbe_9cb6d0bf5aedrow6_col0\" class=\"data row6 col0\" >0.59</td> \n",
       "        <td id=\"T_7dd70842_1ad7_11ea_8cbe_9cb6d0bf5aedrow6_col1\" class=\"data row6 col1\" >0.7</td> \n",
       "        <td id=\"T_7dd70842_1ad7_11ea_8cbe_9cb6d0bf5aedrow6_col2\" class=\"data row6 col2\" >0.51</td> \n",
       "        <td id=\"T_7dd70842_1ad7_11ea_8cbe_9cb6d0bf5aedrow6_col3\" class=\"data row6 col3\" >51</td> \n",
       "    </tr></tbody> \n",
       "</table> "
      ],
      "text/plain": [
       "<pandas.io.formats.style.Styler at 0x7fc550f18a58>"
      ]
     },
     "execution_count": 10,
     "metadata": {},
     "output_type": "execute_result"
    }
   ],
   "source": [
    "df_emotions = df_report[list(label2emotions.values())].T\n",
    "df_emotions.style.set_precision(2)"
   ]
  },
  {
   "cell_type": "code",
   "execution_count": 11,
   "metadata": {},
   "outputs": [
    {
     "data": {
      "text/html": [
       "<style  type=\"text/css\" >\n",
       "</style>  \n",
       "<table id=\"T_860ed92c_1ad7_11ea_8cbe_9cb6d0bf5aed\" > \n",
       "<thead>    <tr> \n",
       "        <th class=\"blank level0\" ></th> \n",
       "        <th class=\"col_heading level0 col0\" >f1-score</th> \n",
       "        <th class=\"col_heading level0 col1\" >precision</th> \n",
       "        <th class=\"col_heading level0 col2\" >recall</th> \n",
       "        <th class=\"col_heading level0 col3\" >support</th> \n",
       "    </tr></thead> \n",
       "<tbody>    <tr> \n",
       "        <th id=\"T_860ed92c_1ad7_11ea_8cbe_9cb6d0bf5aedlevel0_row0\" class=\"row_heading level0 row0\" >accuracy</th> \n",
       "        <td id=\"T_860ed92c_1ad7_11ea_8cbe_9cb6d0bf5aedrow0_col0\" class=\"data row0 col0\" >0.55</td> \n",
       "        <td id=\"T_860ed92c_1ad7_11ea_8cbe_9cb6d0bf5aedrow0_col1\" class=\"data row0 col1\" >0.55</td> \n",
       "        <td id=\"T_860ed92c_1ad7_11ea_8cbe_9cb6d0bf5aedrow0_col2\" class=\"data row0 col2\" >0.55</td> \n",
       "        <td id=\"T_860ed92c_1ad7_11ea_8cbe_9cb6d0bf5aedrow0_col3\" class=\"data row0 col3\" >0.55</td> \n",
       "    </tr>    <tr> \n",
       "        <th id=\"T_860ed92c_1ad7_11ea_8cbe_9cb6d0bf5aedlevel0_row1\" class=\"row_heading level0 row1\" >macro avg</th> \n",
       "        <td id=\"T_860ed92c_1ad7_11ea_8cbe_9cb6d0bf5aedrow1_col0\" class=\"data row1 col0\" >0.53</td> \n",
       "        <td id=\"T_860ed92c_1ad7_11ea_8cbe_9cb6d0bf5aedrow1_col1\" class=\"data row1 col1\" >0.59</td> \n",
       "        <td id=\"T_860ed92c_1ad7_11ea_8cbe_9cb6d0bf5aedrow1_col2\" class=\"data row1 col2\" >0.52</td> \n",
       "        <td id=\"T_860ed92c_1ad7_11ea_8cbe_9cb6d0bf5aedrow1_col3\" class=\"data row1 col3\" >2e+02</td> \n",
       "    </tr>    <tr> \n",
       "        <th id=\"T_860ed92c_1ad7_11ea_8cbe_9cb6d0bf5aedlevel0_row2\" class=\"row_heading level0 row2\" >weighted avg</th> \n",
       "        <td id=\"T_860ed92c_1ad7_11ea_8cbe_9cb6d0bf5aedrow2_col0\" class=\"data row2 col0\" >0.57</td> \n",
       "        <td id=\"T_860ed92c_1ad7_11ea_8cbe_9cb6d0bf5aedrow2_col1\" class=\"data row2 col1\" >0.61</td> \n",
       "        <td id=\"T_860ed92c_1ad7_11ea_8cbe_9cb6d0bf5aedrow2_col2\" class=\"data row2 col2\" >0.55</td> \n",
       "        <td id=\"T_860ed92c_1ad7_11ea_8cbe_9cb6d0bf5aedrow2_col3\" class=\"data row2 col3\" >2e+02</td> \n",
       "    </tr></tbody> \n",
       "</table> "
      ],
      "text/plain": [
       "<pandas.io.formats.style.Styler at 0x7fc550f187f0>"
      ]
     },
     "execution_count": 11,
     "metadata": {},
     "output_type": "execute_result"
    }
   ],
   "source": [
    "df_summary = df_report.drop(columns=list(label2emotions.values())).T\n",
    "df_summary.style.set_precision(2)"
   ]
  },
  {
   "cell_type": "code",
   "execution_count": null,
   "metadata": {},
   "outputs": [],
   "source": []
  }
 ],
 "metadata": {
  "celltoolbar": "Tags",
  "kernelspec": {
   "display_name": "Python 3",
   "language": "python",
   "name": "python3"
  },
  "language_info": {
   "codemirror_mode": {
    "name": "ipython",
    "version": 3
   },
   "file_extension": ".py",
   "mimetype": "text/x-python",
   "name": "python",
   "nbconvert_exporter": "python",
   "pygments_lexer": "ipython3",
   "version": "3.6.8"
  }
 },
 "nbformat": 4,
 "nbformat_minor": 2
}
