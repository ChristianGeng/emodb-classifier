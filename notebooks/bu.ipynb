{
 "cells": [
  {
   "cell_type": "code",
   "execution_count": null,
   "metadata": {},
   "outputs": [],
   "source": []
  },
  {
   "cell_type": "code",
   "execution_count": 1,
   "metadata": {},
   "outputs": [
    {
     "name": "stdout",
     "output_type": "stream",
     "text": [
      "/media/win-d/myfiles/2019/emodb-classifier\n",
      "/media/win-d/myfiles/2019/emodb-classifier/data/processed/features.csv\n"
     ]
    }
   ],
   "source": [
    "import os\n",
    "import dotenv\n",
    "import sys\n",
    "import pandas as pd\n",
    "import numpy as np\n",
    "\n",
    "from sklearn.model_selection import train_test_split\n",
    "\n",
    "project_dir = os.path.dirname(os.path.abspath(''))  # might be __file__\n",
    "print(project_dir)\n",
    "sys.path.insert(0, project_dir)\n",
    "\n",
    "from src.utils.utilities import nzvKJ\n",
    "from src.features.custom_transformers import ColumnExtractor, DFRobustScaler, DFFeatureUnion, DFImputer\n",
    "from src.features.custom_transformers import DummyTransformer, Log1pTransformer, ZeroFillTransformer\n",
    "from src.features.custom_transformers import DateFormatter, DateDiffer, MultiEncoder\n",
    "\n",
    "from sklearn.pipeline import Pipeline\n",
    "from sklearn.metrics import confusion_matrix\n",
    "from sklearn.metrics import accuracy_score\n",
    "from sklearn.metrics import classification_report\n",
    "from sklearn.metrics import make_scorer\n",
    "from sklearn.metrics import f1_score\n",
    "from sklearn.metrics import precision_recall_fscore_support\n",
    "from sklearn import preprocessing\n",
    "from sklearn.preprocessing import LabelBinarizer, LabelEncoder, OneHotEncoder\n",
    "from sklearn import svm\n",
    "from sklearn.mixture import GaussianMixture as GMM\n",
    "\n",
    "emotion_codes = {\n",
    "    'W': 'Ärger (Wut)',\n",
    "    'L': 'Langeweile',\n",
    "    'E': 'Ekel',\n",
    "    'A': 'Angst',\n",
    "    'F': 'Freude',\n",
    "    'T': 'Trauer',\n",
    "    'N': 'Neutral'\n",
    "}\n",
    "\n",
    "\n",
    "\n",
    "#project_dir = os.path.join(os.path.dirname(__file__), os.pardir)\n",
    "dotenv_path = os.path.join(project_dir, '.env')\n",
    "dotenv.load_dotenv(dotenv_path)\n",
    "\n",
    "feature_file = os.path.join(project_dir, \"data/processed/features.csv\")\n",
    "filename_file = os.path.join(project_dir, \"data/processed/filenames.csv\")\n",
    "print(feature_file)\n",
    "df = pd.read_csv(feature_file, sep=';')\n",
    "filenames = pd.read_csv(filename_file, sep=';')\n",
    "\n",
    "y = pd.DataFrame(filenames['filename'].apply(lambda x : x[5]))\n",
    "y.columns = ['label']\n",
    "\n",
    "speaker = pd.DataFrame(filenames['filename'].apply(lambda x : x[0:2]))\n",
    "speaker.columns = ['speaker']"
   ]
  },
  {
   "cell_type": "code",
   "execution_count": 2,
   "metadata": {},
   "outputs": [
    {
     "name": "stdout",
     "output_type": "stream",
     "text": [
      "(535, 6375)\n"
     ]
    },
    {
     "data": {
      "text/html": [
       "<div>\n",
       "<style scoped>\n",
       "    .dataframe tbody tr th:only-of-type {\n",
       "        vertical-align: middle;\n",
       "    }\n",
       "\n",
       "    .dataframe tbody tr th {\n",
       "        vertical-align: top;\n",
       "    }\n",
       "\n",
       "    .dataframe thead th {\n",
       "        text-align: right;\n",
       "    }\n",
       "</style>\n",
       "<table border=\"1\" class=\"dataframe\">\n",
       "  <thead>\n",
       "    <tr style=\"text-align: right;\">\n",
       "      <th></th>\n",
       "      <th>name</th>\n",
       "      <th>frameTime</th>\n",
       "      <th>audspec_lengthL1norm_sma_range</th>\n",
       "      <th>audspec_lengthL1norm_sma_maxPos</th>\n",
       "      <th>audspec_lengthL1norm_sma_minPos</th>\n",
       "      <th>audspec_lengthL1norm_sma_quartile1</th>\n",
       "      <th>audspec_lengthL1norm_sma_quartile2</th>\n",
       "      <th>audspec_lengthL1norm_sma_quartile3</th>\n",
       "      <th>audspec_lengthL1norm_sma_iqr1-2</th>\n",
       "      <th>audspec_lengthL1norm_sma_iqr2-3</th>\n",
       "      <th>...</th>\n",
       "      <th>mfcc_sma_de[14]_peakRangeAbs</th>\n",
       "      <th>mfcc_sma_de[14]_peakRangeRel</th>\n",
       "      <th>mfcc_sma_de[14]_peakMeanAbs</th>\n",
       "      <th>mfcc_sma_de[14]_peakMeanMeanDist</th>\n",
       "      <th>mfcc_sma_de[14]_peakMeanRel</th>\n",
       "      <th>mfcc_sma_de[14]_minRangeRel</th>\n",
       "      <th>mfcc_sma_de[14]_meanRisingSlope</th>\n",
       "      <th>mfcc_sma_de[14]_stddevRisingSlope</th>\n",
       "      <th>mfcc_sma_de[14]_meanFallingSlope</th>\n",
       "      <th>mfcc_sma_de[14]_stddevFallingSlope</th>\n",
       "    </tr>\n",
       "  </thead>\n",
       "  <tbody>\n",
       "    <tr>\n",
       "      <th>0</th>\n",
       "      <td>'unknown'</td>\n",
       "      <td>0.0</td>\n",
       "      <td>2.935072</td>\n",
       "      <td>0.203297</td>\n",
       "      <td>0.010989</td>\n",
       "      <td>0.295957</td>\n",
       "      <td>0.521095</td>\n",
       "      <td>1.027880</td>\n",
       "      <td>0.225138</td>\n",
       "      <td>0.506785</td>\n",
       "      <td>...</td>\n",
       "      <td>4.534243</td>\n",
       "      <td>0.369439</td>\n",
       "      <td>2.608828</td>\n",
       "      <td>2.575876</td>\n",
       "      <td>79.16969</td>\n",
       "      <td>0.681891</td>\n",
       "      <td>117.0939</td>\n",
       "      <td>56.66211</td>\n",
       "      <td>120.51720</td>\n",
       "      <td>53.83758</td>\n",
       "    </tr>\n",
       "    <tr>\n",
       "      <th>1</th>\n",
       "      <td>'unknown'</td>\n",
       "      <td>0.0</td>\n",
       "      <td>3.087914</td>\n",
       "      <td>0.155844</td>\n",
       "      <td>0.889610</td>\n",
       "      <td>0.230797</td>\n",
       "      <td>0.747831</td>\n",
       "      <td>1.160158</td>\n",
       "      <td>0.517033</td>\n",
       "      <td>0.412327</td>\n",
       "      <td>...</td>\n",
       "      <td>5.695182</td>\n",
       "      <td>0.373871</td>\n",
       "      <td>3.123539</td>\n",
       "      <td>3.173356</td>\n",
       "      <td>-62.70013</td>\n",
       "      <td>0.684225</td>\n",
       "      <td>126.9756</td>\n",
       "      <td>63.87025</td>\n",
       "      <td>157.94470</td>\n",
       "      <td>60.62523</td>\n",
       "    </tr>\n",
       "    <tr>\n",
       "      <th>2</th>\n",
       "      <td>'unknown'</td>\n",
       "      <td>0.0</td>\n",
       "      <td>3.673083</td>\n",
       "      <td>0.677778</td>\n",
       "      <td>0.011111</td>\n",
       "      <td>0.379012</td>\n",
       "      <td>0.901301</td>\n",
       "      <td>1.801537</td>\n",
       "      <td>0.522289</td>\n",
       "      <td>0.900236</td>\n",
       "      <td>...</td>\n",
       "      <td>8.072541</td>\n",
       "      <td>0.486622</td>\n",
       "      <td>3.802572</td>\n",
       "      <td>3.807790</td>\n",
       "      <td>-728.79330</td>\n",
       "      <td>0.385978</td>\n",
       "      <td>177.8207</td>\n",
       "      <td>89.42555</td>\n",
       "      <td>153.75670</td>\n",
       "      <td>92.12224</td>\n",
       "    </tr>\n",
       "    <tr>\n",
       "      <th>3</th>\n",
       "      <td>'unknown'</td>\n",
       "      <td>0.0</td>\n",
       "      <td>3.149658</td>\n",
       "      <td>0.549223</td>\n",
       "      <td>0.720207</td>\n",
       "      <td>0.252871</td>\n",
       "      <td>0.691515</td>\n",
       "      <td>1.456156</td>\n",
       "      <td>0.438644</td>\n",
       "      <td>0.764641</td>\n",
       "      <td>...</td>\n",
       "      <td>8.049535</td>\n",
       "      <td>0.537332</td>\n",
       "      <td>3.237765</td>\n",
       "      <td>3.310604</td>\n",
       "      <td>-44.45128</td>\n",
       "      <td>0.442254</td>\n",
       "      <td>161.9317</td>\n",
       "      <td>82.12952</td>\n",
       "      <td>134.20900</td>\n",
       "      <td>73.30933</td>\n",
       "    </tr>\n",
       "    <tr>\n",
       "      <th>4</th>\n",
       "      <td>'unknown'</td>\n",
       "      <td>0.0</td>\n",
       "      <td>2.437313</td>\n",
       "      <td>0.632353</td>\n",
       "      <td>0.691177</td>\n",
       "      <td>0.386230</td>\n",
       "      <td>0.809192</td>\n",
       "      <td>1.433426</td>\n",
       "      <td>0.422963</td>\n",
       "      <td>0.624234</td>\n",
       "      <td>...</td>\n",
       "      <td>6.743886</td>\n",
       "      <td>0.511177</td>\n",
       "      <td>2.217382</td>\n",
       "      <td>2.281039</td>\n",
       "      <td>-34.83302</td>\n",
       "      <td>0.492747</td>\n",
       "      <td>106.7201</td>\n",
       "      <td>57.31511</td>\n",
       "      <td>97.52015</td>\n",
       "      <td>41.16851</td>\n",
       "    </tr>\n",
       "  </tbody>\n",
       "</table>\n",
       "<p>5 rows × 6375 columns</p>\n",
       "</div>"
      ],
      "text/plain": [
       "        name  frameTime  audspec_lengthL1norm_sma_range  \\\n",
       "0  'unknown'        0.0                        2.935072   \n",
       "1  'unknown'        0.0                        3.087914   \n",
       "2  'unknown'        0.0                        3.673083   \n",
       "3  'unknown'        0.0                        3.149658   \n",
       "4  'unknown'        0.0                        2.437313   \n",
       "\n",
       "   audspec_lengthL1norm_sma_maxPos  audspec_lengthL1norm_sma_minPos  \\\n",
       "0                         0.203297                         0.010989   \n",
       "1                         0.155844                         0.889610   \n",
       "2                         0.677778                         0.011111   \n",
       "3                         0.549223                         0.720207   \n",
       "4                         0.632353                         0.691177   \n",
       "\n",
       "   audspec_lengthL1norm_sma_quartile1  audspec_lengthL1norm_sma_quartile2  \\\n",
       "0                            0.295957                            0.521095   \n",
       "1                            0.230797                            0.747831   \n",
       "2                            0.379012                            0.901301   \n",
       "3                            0.252871                            0.691515   \n",
       "4                            0.386230                            0.809192   \n",
       "\n",
       "   audspec_lengthL1norm_sma_quartile3  audspec_lengthL1norm_sma_iqr1-2  \\\n",
       "0                            1.027880                         0.225138   \n",
       "1                            1.160158                         0.517033   \n",
       "2                            1.801537                         0.522289   \n",
       "3                            1.456156                         0.438644   \n",
       "4                            1.433426                         0.422963   \n",
       "\n",
       "   audspec_lengthL1norm_sma_iqr2-3                 ...                  \\\n",
       "0                         0.506785                 ...                   \n",
       "1                         0.412327                 ...                   \n",
       "2                         0.900236                 ...                   \n",
       "3                         0.764641                 ...                   \n",
       "4                         0.624234                 ...                   \n",
       "\n",
       "   mfcc_sma_de[14]_peakRangeAbs  mfcc_sma_de[14]_peakRangeRel  \\\n",
       "0                      4.534243                      0.369439   \n",
       "1                      5.695182                      0.373871   \n",
       "2                      8.072541                      0.486622   \n",
       "3                      8.049535                      0.537332   \n",
       "4                      6.743886                      0.511177   \n",
       "\n",
       "   mfcc_sma_de[14]_peakMeanAbs  mfcc_sma_de[14]_peakMeanMeanDist  \\\n",
       "0                     2.608828                          2.575876   \n",
       "1                     3.123539                          3.173356   \n",
       "2                     3.802572                          3.807790   \n",
       "3                     3.237765                          3.310604   \n",
       "4                     2.217382                          2.281039   \n",
       "\n",
       "   mfcc_sma_de[14]_peakMeanRel  mfcc_sma_de[14]_minRangeRel  \\\n",
       "0                     79.16969                     0.681891   \n",
       "1                    -62.70013                     0.684225   \n",
       "2                   -728.79330                     0.385978   \n",
       "3                    -44.45128                     0.442254   \n",
       "4                    -34.83302                     0.492747   \n",
       "\n",
       "   mfcc_sma_de[14]_meanRisingSlope  mfcc_sma_de[14]_stddevRisingSlope  \\\n",
       "0                         117.0939                           56.66211   \n",
       "1                         126.9756                           63.87025   \n",
       "2                         177.8207                           89.42555   \n",
       "3                         161.9317                           82.12952   \n",
       "4                         106.7201                           57.31511   \n",
       "\n",
       "   mfcc_sma_de[14]_meanFallingSlope  mfcc_sma_de[14]_stddevFallingSlope  \n",
       "0                         120.51720                            53.83758  \n",
       "1                         157.94470                            60.62523  \n",
       "2                         153.75670                            92.12224  \n",
       "3                         134.20900                            73.30933  \n",
       "4                          97.52015                            41.16851  \n",
       "\n",
       "[5 rows x 6375 columns]"
      ]
     },
     "metadata": {},
     "output_type": "display_data"
    },
    {
     "name": "stdout",
     "output_type": "stream",
     "text": [
      "df shape / y shape / N Wav files 535/535/535\n"
     ]
    }
   ],
   "source": [
    "print(df.shape)\n",
    "display(df.head())\n",
    "wav_path =  os.path.join(project_dir, \"data/raw/wav\")\n",
    "wav_files = os.listdir(wav_path)\n",
    "print('df shape / y shape / N Wav files {}/{}/{}'.format(df.shape[0], y.shape[0], len(wav_files)))"
   ]
  },
  {
   "cell_type": "markdown",
   "metadata": {},
   "source": [
    "## Basic Feature Selection\n",
    "\n",
    "Only Kuhn Johnson nonzero variabce implemented\n",
    "\n",
    "\n",
    "TODO: Improve\n",
    "http://scikit-learn.org/stable/modules/feature_selection.html\n",
    "\n"
   ]
  },
  {
   "cell_type": "code",
   "execution_count": 3,
   "metadata": {},
   "outputs": [],
   "source": [
    "dropvars = ['filename', 'name', 'frameTime']\n",
    "nearZeroVar =  nzvKJ(df, df.columns)\n",
    "# nearZeroVar =  nzvKJ(X_train,X_train.columns,freqCut = 20.)\n",
    "varlist2drop = nearZeroVar[nearZeroVar['nzv']].index.tolist()"
   ]
  },
  {
   "cell_type": "code",
   "execution_count": 4,
   "metadata": {},
   "outputs": [
    {
     "data": {
      "text/plain": [
       "['filename',\n",
       " 'pcm_fftMag_spectralRollOff25.0_sma_percentile1.0',\n",
       " 'logHNR_sma_percentile1.0',\n",
       " 'logHNR_sma_minPos',\n",
       " 'name',\n",
       " 'frameTime']"
      ]
     },
     "execution_count": 4,
     "metadata": {},
     "output_type": "execute_result"
    }
   ],
   "source": [
    "vars2remove = list(set(varlist2drop + dropvars))\n",
    "vars2remove"
   ]
  },
  {
   "cell_type": "code",
   "execution_count": 5,
   "metadata": {},
   "outputs": [
    {
     "data": {
      "text/plain": [
       "[]"
      ]
     },
     "execution_count": 5,
     "metadata": {},
     "output_type": "execute_result"
    }
   ],
   "source": [
    "NUM_FEATS = list(df.select_dtypes(include=['float64', 'int64']).columns)\n",
    "NUM_FEATS = [x for x in NUM_FEATS if x not in vars2remove]\n",
    "CAT_FEATS = list(df.select_dtypes(include=['object']).columns)\n",
    "CAT_FEATS = [x for x in CAT_FEATS if x not in vars2remove]\n",
    "CAT_FEATS\n",
    "\n"
   ]
  },
  {
   "cell_type": "markdown",
   "metadata": {},
   "source": [
    "## Explore Target Variable\n",
    "\n"
   ]
  },
  {
   "cell_type": "code",
   "execution_count": 6,
   "metadata": {},
   "outputs": [
    {
     "data": {
      "text/plain": [
       "W    127\n",
       "L     81\n",
       "N     79\n",
       "F     71\n",
       "A     69\n",
       "T     62\n",
       "E     46\n",
       "Name: label, dtype: int64"
      ]
     },
     "execution_count": 6,
     "metadata": {},
     "output_type": "execute_result"
    }
   ],
   "source": [
    "y['label'].value_counts()"
   ]
  },
  {
   "cell_type": "markdown",
   "metadata": {},
   "source": [
    "## Data Split / Pipeline / Target Transform / Resampling"
   ]
  },
  {
   "cell_type": "markdown",
   "metadata": {},
   "source": [
    "### Split dataset into Train Test by - Speaker Assignment"
   ]
  },
  {
   "cell_type": "code",
   "execution_count": 7,
   "metadata": {},
   "outputs": [
    {
     "name": "stdout",
     "output_type": "stream",
     "text": [
      "There should be approx 2/3 of the speakers in train: 0.6\n",
      "535\n"
     ]
    },
    {
     "data": {
      "text/html": [
       "<div>\n",
       "<style scoped>\n",
       "    .dataframe tbody tr th:only-of-type {\n",
       "        vertical-align: middle;\n",
       "    }\n",
       "\n",
       "    .dataframe tbody tr th {\n",
       "        vertical-align: top;\n",
       "    }\n",
       "\n",
       "    .dataframe thead th {\n",
       "        text-align: right;\n",
       "    }\n",
       "</style>\n",
       "<table border=\"1\" class=\"dataframe\">\n",
       "  <thead>\n",
       "    <tr style=\"text-align: right;\">\n",
       "      <th>speaker</th>\n",
       "      <th>False</th>\n",
       "      <th>True</th>\n",
       "    </tr>\n",
       "    <tr>\n",
       "      <th>speaker</th>\n",
       "      <th></th>\n",
       "      <th></th>\n",
       "    </tr>\n",
       "  </thead>\n",
       "  <tbody>\n",
       "    <tr>\n",
       "      <th>False</th>\n",
       "      <td>337</td>\n",
       "      <td>0</td>\n",
       "    </tr>\n",
       "    <tr>\n",
       "      <th>True</th>\n",
       "      <td>0</td>\n",
       "      <td>198</td>\n",
       "    </tr>\n",
       "  </tbody>\n",
       "</table>\n",
       "</div>"
      ],
      "text/plain": [
       "speaker  False  True \n",
       "speaker              \n",
       "False      337      0\n",
       "True         0    198"
      ]
     },
     "execution_count": 7,
     "metadata": {},
     "output_type": "execute_result"
    }
   ],
   "source": [
    "random_state = 42\n",
    "train_size = 2./3\n",
    "speaker_values = list(np.unique(speaker.values))\n",
    "n_speakers = len(speaker_values)\n",
    "train, test = train_test_split(speaker_values, random_state=random_state, train_size=train_size)\n",
    "print('There should be approx 2/3 of the speakers in train: {}'.format(len(train) / n_speakers))\n",
    "train, test\n",
    "train_filter = speaker['speaker'].apply(lambda x: x in train) \n",
    "test_filter = speaker['speaker'].apply(lambda x: x in test) \n",
    "print(speaker.shape[0])\n",
    "pd.crosstab(train_filter, test_filter)"
   ]
  },
  {
   "cell_type": "code",
   "execution_count": 8,
   "metadata": {},
   "outputs": [
    {
     "name": "stdout",
     "output_type": "stream",
     "text": [
      "(337, 6375) (198, 6375) (337, 1) (198, 1)\n"
     ]
    }
   ],
   "source": [
    "df_train = df[train_filter]\n",
    "df_test = df[test_filter]\n",
    "y_train = y[train_filter]\n",
    "y_test = y[test_filter]\n",
    "print(df_train.shape, df_test.shape, y_train.shape, y_test.shape)"
   ]
  },
  {
   "cell_type": "markdown",
   "metadata": {},
   "source": [
    "### Feature Pipeline and Target Transform "
   ]
  },
  {
   "cell_type": "code",
   "execution_count": 9,
   "metadata": {},
   "outputs": [
    {
     "data": {
      "text/plain": [
       "Pipeline(memory=None,\n",
       "         steps=[('features',\n",
       "                 <src.features.custom_transformers.DFFeatureUnion object at 0x7f337e4b9278>),\n",
       "                ('std_scaler',\n",
       "                 StandardScaler(copy=True, with_mean=True, with_std=True))],\n",
       "         verbose=False)"
      ]
     },
     "execution_count": 9,
     "metadata": {},
     "output_type": "execute_result"
    }
   ],
   "source": [
    "# Preprocessing with a Pipeline that uses Pandas Capable Processors\n",
    "pipeline = Pipeline([\n",
    "    ('features', DFFeatureUnion([\n",
    "        ('categoricals', Pipeline([\n",
    "            ('extract', ColumnExtractor(CAT_FEATS)),\n",
    "            ('dummy', DummyTransformer())\n",
    "        ])),\n",
    "        ('numerics', Pipeline([\n",
    "            ('extract', ColumnExtractor(NUM_FEATS)),\n",
    "            ('zero_fill', ZeroFillTransformer())\n",
    "        ]))\n",
    "    ])),\n",
    "    ('std_scaler', preprocessing.StandardScaler())\n",
    "])\n",
    "pipeline.fit(df_train)\n",
    "\n",
    "# ('scale', DFRobustScaler())\n",
    "# ('std_scaler', preprocessing.StandardScaler()),\n",
    "# ('reduce_dim', MaskedPCA(n_components=337, mask=None)),\n",
    "#  ('scale', DFRobustScaler()),\n",
    "#  ('mpca', MaskedPCA(n_components=337, mask=None))"
   ]
  },
  {
   "cell_type": "code",
   "execution_count": 10,
   "metadata": {},
   "outputs": [],
   "source": [
    "X_train_t = pipeline.transform(df_train)\n",
    "X_test_t = pipeline.transform(df_test)"
   ]
  },
  {
   "cell_type": "code",
   "execution_count": 11,
   "metadata": {},
   "outputs": [
    {
     "name": "stdout",
     "output_type": "stream",
     "text": [
      "(337, 6370)\n",
      "(337, 6375)\n",
      "(198, 6370)\n",
      "(198, 6375)\n"
     ]
    }
   ],
   "source": [
    "print(X_train_t.shape)\n",
    "print(df_train.shape)\n",
    "print(X_test_t.shape)\n",
    "print(df_test.shape)\n",
    "\n",
    "#df_test.shape"
   ]
  },
  {
   "cell_type": "code",
   "execution_count": 12,
   "metadata": {},
   "outputs": [],
   "source": [
    "from sklearn.base import BaseEstimator, TransformerMixin\n",
    "from sklearn.decomposition import PCA\n",
    "\n",
    "class MaskedPCA(TransformerMixin):\n",
    "    \"\"\"\n",
    "    https://stackoverflow.com/questions/24124622/pipeline-with-pca-on-feature-subset-only-in-scikit-learn\n",
    "    https://scikit-learn.org/stable/modules/generated/sklearn.decomposition.PCA.html\n",
    "    \"\"\"\n",
    "    def __init__(self, n_components=2, mask=None):  \n",
    "        # mask should contain selected cols. Suppose it is boolean to avoid code overhead\n",
    "        self.n_components = n_components\n",
    "        self.mask = mask\n",
    "\n",
    "    def fit(self, X, y=None):\n",
    "        self.pca = PCA(n_components=self.n_components)\n",
    "        mask = self.mask\n",
    "        # mask = self.mask if self.mask is not None else slice(None)\n",
    "        #self.pca.fit(X[:, mask])\n",
    "        self.pca.fit(X)\n",
    "        return self\n",
    "\n",
    "    def transform(self, X):\n",
    "        # mask = self.mask if self.mask is not None else slice(None)\n",
    "        pca_transformed = pd.DataFrame(self.pca.transform(X))\n",
    "        #if self.mask is not None:\n",
    "        #    remaining_cols = X[:, ~mask]\n",
    "        #    return np.hstack([remaining_cols, pca_transformed])\n",
    "        #else:\n",
    "        return pca_transformed\n",
    "\n",
    "    def inverse_transform(self, X):\n",
    "        if self.mask is not None:\n",
    "            # Inverse transform appropriate data\n",
    "            inv_mask = np.arange(len(X[0])) >= sum(~self.mask)\n",
    "            inv_transformed = self.pca.inverse_transform(X[:, inv_mask])\n",
    "\n",
    "            # Place inverse transformed columns back in their original order\n",
    "            inv_transformed_reorder = np.zeros([len(X), len(self.mask)])\n",
    "            inv_transformed_reorder[:, self.mask] = inv_transformed\n",
    "            inv_transformed_reorder[:, ~self.mask] = X[:, ~inv_mask]\n",
    "            return inv_transformed_reorder\n",
    "        else:\n",
    "            return self.pca.inverse_transform(X)"
   ]
  },
  {
   "cell_type": "code",
   "execution_count": 13,
   "metadata": {},
   "outputs": [],
   "source": [
    "# explore PCA Transform \n",
    "#mpca = MaskedPCA(n_components=100, mask=None)\n",
    "#mpca.fit(X_train_t)\n",
    "#X_train_t_t = mpca.transform(X_train_t)\n",
    "#X_train_t_t.shape\n",
    "#mpca.pca.explained_variance_"
   ]
  },
  {
   "cell_type": "code",
   "execution_count": 14,
   "metadata": {},
   "outputs": [
    {
     "name": "stdout",
     "output_type": "stream",
     "text": [
      "6    76\n",
      "3    52\n",
      "2    45\n",
      "0    45\n",
      "4    43\n",
      "5    38\n",
      "1    38\n",
      "dtype: int64\n"
     ]
    },
    {
     "name": "stderr",
     "output_type": "stream",
     "text": [
      "/home/christian/.venvs/py36/lib/python3.6/site-packages/sklearn/preprocessing/label.py:235: DataConversionWarning: A column-vector y was passed when a 1d array was expected. Please change the shape of y to (n_samples, ), for example using ravel().\n",
      "  y = column_or_1d(y, warn=True)\n"
     ]
    },
    {
     "data": {
      "text/plain": [
       "array(['A', 'E', 'F', 'L', 'N', 'T', 'W'], dtype=object)"
      ]
     },
     "execution_count": 14,
     "metadata": {},
     "output_type": "execute_result"
    }
   ],
   "source": [
    "lb = preprocessing.LabelBinarizer()\n",
    "label_encoder = LabelEncoder()\n",
    "y_train_t = label_encoder.fit_transform(y_train.values)\n",
    "y_test_enc = label_encoder.fit_transform(y_test)\n",
    "print(pd.Series(y_train_t).value_counts())\n",
    "label_encoder.classes_"
   ]
  },
  {
   "cell_type": "raw",
   "metadata": {},
   "source": [
    "letter\temotion (english)\tletter\temotion (german)\n",
    "A\tanger\tW\tÄrger (Wut)\n",
    "B\tboredom\tL\tLangeweile\n",
    "D\tdisgust\tE\tEkel\n",
    "F\tanxiety/fear\tA\tAngst\n",
    "H\thappiness\tF\tFreude\n",
    "S\tsadness\tT\tTrauer\n",
    "N = neutral version\n",
    "# W L E A F T N"
   ]
  },
  {
   "cell_type": "markdown",
   "metadata": {},
   "source": [
    "### Resampling Training Data"
   ]
  },
  {
   "cell_type": "code",
   "execution_count": 15,
   "metadata": {},
   "outputs": [
    {
     "name": "stderr",
     "output_type": "stream",
     "text": [
      "Using TensorFlow backend.\n",
      "/home/christian/.venvs/py36/lib/python3.6/site-packages/tensorflow/python/framework/dtypes.py:516: FutureWarning: Passing (type, 1) or '1type' as a synonym of type is deprecated; in a future version of numpy, it will be understood as (type, (1,)) / '(1,)type'.\n",
      "  _np_qint8 = np.dtype([(\"qint8\", np.int8, 1)])\n",
      "/home/christian/.venvs/py36/lib/python3.6/site-packages/tensorflow/python/framework/dtypes.py:517: FutureWarning: Passing (type, 1) or '1type' as a synonym of type is deprecated; in a future version of numpy, it will be understood as (type, (1,)) / '(1,)type'.\n",
      "  _np_quint8 = np.dtype([(\"quint8\", np.uint8, 1)])\n",
      "/home/christian/.venvs/py36/lib/python3.6/site-packages/tensorflow/python/framework/dtypes.py:518: FutureWarning: Passing (type, 1) or '1type' as a synonym of type is deprecated; in a future version of numpy, it will be understood as (type, (1,)) / '(1,)type'.\n",
      "  _np_qint16 = np.dtype([(\"qint16\", np.int16, 1)])\n",
      "/home/christian/.venvs/py36/lib/python3.6/site-packages/tensorflow/python/framework/dtypes.py:519: FutureWarning: Passing (type, 1) or '1type' as a synonym of type is deprecated; in a future version of numpy, it will be understood as (type, (1,)) / '(1,)type'.\n",
      "  _np_quint16 = np.dtype([(\"quint16\", np.uint16, 1)])\n",
      "/home/christian/.venvs/py36/lib/python3.6/site-packages/tensorflow/python/framework/dtypes.py:520: FutureWarning: Passing (type, 1) or '1type' as a synonym of type is deprecated; in a future version of numpy, it will be understood as (type, (1,)) / '(1,)type'.\n",
      "  _np_qint32 = np.dtype([(\"qint32\", np.int32, 1)])\n",
      "/home/christian/.venvs/py36/lib/python3.6/site-packages/tensorflow/python/framework/dtypes.py:525: FutureWarning: Passing (type, 1) or '1type' as a synonym of type is deprecated; in a future version of numpy, it will be understood as (type, (1,)) / '(1,)type'.\n",
      "  np_resource = np.dtype([(\"resource\", np.ubyte, 1)])\n"
     ]
    },
    {
     "name": "stdout",
     "output_type": "stream",
     "text": [
      "Resampled dataset shape Counter({1: 76, 2: 76, 4: 76, 6: 76, 3: 76, 5: 76, 0: 76})\n",
      "resampled shape (532, 6370)\n",
      "original shape (337, 6370)\n"
     ]
    },
    {
     "name": "stderr",
     "output_type": "stream",
     "text": [
      "/home/christian/.venvs/py36/lib/python3.6/site-packages/tensorboard/compat/tensorflow_stub/dtypes.py:541: FutureWarning: Passing (type, 1) or '1type' as a synonym of type is deprecated; in a future version of numpy, it will be understood as (type, (1,)) / '(1,)type'.\n",
      "  _np_qint8 = np.dtype([(\"qint8\", np.int8, 1)])\n",
      "/home/christian/.venvs/py36/lib/python3.6/site-packages/tensorboard/compat/tensorflow_stub/dtypes.py:542: FutureWarning: Passing (type, 1) or '1type' as a synonym of type is deprecated; in a future version of numpy, it will be understood as (type, (1,)) / '(1,)type'.\n",
      "  _np_quint8 = np.dtype([(\"quint8\", np.uint8, 1)])\n",
      "/home/christian/.venvs/py36/lib/python3.6/site-packages/tensorboard/compat/tensorflow_stub/dtypes.py:543: FutureWarning: Passing (type, 1) or '1type' as a synonym of type is deprecated; in a future version of numpy, it will be understood as (type, (1,)) / '(1,)type'.\n",
      "  _np_qint16 = np.dtype([(\"qint16\", np.int16, 1)])\n",
      "/home/christian/.venvs/py36/lib/python3.6/site-packages/tensorboard/compat/tensorflow_stub/dtypes.py:544: FutureWarning: Passing (type, 1) or '1type' as a synonym of type is deprecated; in a future version of numpy, it will be understood as (type, (1,)) / '(1,)type'.\n",
      "  _np_quint16 = np.dtype([(\"quint16\", np.uint16, 1)])\n",
      "/home/christian/.venvs/py36/lib/python3.6/site-packages/tensorboard/compat/tensorflow_stub/dtypes.py:545: FutureWarning: Passing (type, 1) or '1type' as a synonym of type is deprecated; in a future version of numpy, it will be understood as (type, (1,)) / '(1,)type'.\n",
      "  _np_qint32 = np.dtype([(\"qint32\", np.int32, 1)])\n",
      "/home/christian/.venvs/py36/lib/python3.6/site-packages/tensorboard/compat/tensorflow_stub/dtypes.py:550: FutureWarning: Passing (type, 1) or '1type' as a synonym of type is deprecated; in a future version of numpy, it will be understood as (type, (1,)) / '(1,)type'.\n",
      "  np_resource = np.dtype([(\"resource\", np.ubyte, 1)])\n"
     ]
    }
   ],
   "source": [
    "from collections import Counter\n",
    "from sklearn.datasets import make_classification\n",
    "from imblearn.over_sampling import SMOTE # doctest: +NORMALIZE_WHITESPACE\n",
    "#X, y = make_classification(n_classes=2, class_sep=2,\n",
    "#... weights=[0.1, 0.9], n_informative=3, n_redundant=1, flip_y=0,\n",
    "#... n_features=20, n_clusters_per_class=1, n_samples=1000, random_state=10)\n",
    "#>>> print('Original dataset shape %s' % Counter(y))\n",
    "#Original dataset shape Counter({1: 900, 0: 100})\n",
    "sm = SMOTE(random_state=42)\n",
    "X_train_t_res, y_train_t_res = sm.fit_resample(X_train_t, y_train_t)\n",
    "print('Resampled dataset shape %s' % Counter(y_train_t_res))\n",
    "# Resampled dataset shape Counter({0: 900, 1: 900})\n",
    "print(\"resampled shape\", X_train_t_res.shape)\n",
    "print(\"original shape\", X_train_t.shape)\n",
    "# 637 / 91 gives number of emotions"
   ]
  },
  {
   "cell_type": "markdown",
   "metadata": {},
   "source": [
    "# Fit Models\n",
    "\n",
    "https://elitedatascience.com/imbalanced-classes"
   ]
  },
  {
   "cell_type": "markdown",
   "metadata": {},
   "source": [
    "## GMM"
   ]
  },
  {
   "cell_type": "code",
   "execution_count": 16,
   "metadata": {},
   "outputs": [],
   "source": [
    "from sklearn.metrics import confusion_matrix\n",
    "import matplotlib.pyplot as plt\n",
    "\n",
    "def plot_confusionmatrix(clf, y_test, y_pred, labels, cmap=plt.cm.Blues, title=''):\n",
    "    \"\"\"Utility to plot confusion matrix from Classifier\n",
    "    clf - sklearn trained classifier\n",
    "    y_test - test data. They are preprocessed, e.g. run through a label encoder\n",
    "    y_pred - they come from the model\n",
    "    labels - label names(len N Classes)\n",
    "    cmap - color map)\n",
    "    \"\"\"\n",
    "\n",
    "    cm = confusion_matrix(y_test, y_pred)\n",
    "    fig = plt.figure()\n",
    "    ax = fig.add_subplot(111)\n",
    "    cax = ax.matshow(cm, cmap=cmap)\n",
    "    plt.title(title)\n",
    "    fig.colorbar(cax)\n",
    "    ax.set_xticklabels([''] + labels, rotation=90)\n",
    "    ax.set_yticklabels([''] + labels)\n",
    "    plt.xlabel('Predicted')\n",
    "    plt.ylabel('True')\n",
    "    plt.show()\n",
    "\n"
   ]
  },
  {
   "cell_type": "code",
   "execution_count": 19,
   "metadata": {},
   "outputs": [],
   "source": [
    "GMM?"
   ]
  },
  {
   "cell_type": "code",
   "execution_count": 17,
   "metadata": {},
   "outputs": [
    {
     "data": {
      "text/plain": [
       "GaussianMixture(covariance_type='spherical', init_params='kmeans', max_iter=100,\n",
       "                means_init=array([[-0.07628591,  0.56375514, -0.07264341, ...,  0.0106416 ,\n",
       "         0.1603241 ,  0.0840262 ],\n",
       "       [-0.014052  ,  0.08382793,  0.13732467, ..., -0.23945737,\n",
       "        -0.39394525, -0.32432904],\n",
       "       [ 0.46266846,  0.21342106,  0.20584254, ...,  0.87138955,\n",
       "         0.84011277,  0.71064128],\n",
       "       ...,\n",
       "       [-0.62537726, -0.66801703,  0.14577049, ..., -0.48337466,\n",
       "        -0.53408477, -0.52241845],\n",
       "       [-1.21366535, -0.26013869,  0.20519453, ..., -0.71845524,\n",
       "        -0.95210914, -0.68158436],\n",
       "       [ 0.87366516,  0.43826998, -0.19061871, ...,  0.67727339,\n",
       "         0.8536321 ,  0.61373645]]),\n",
       "                n_components=7, n_init=5, precisions_init=None,\n",
       "                random_state=None, reg_covar=1e-06, tol=0.001, verbose=0,\n",
       "                verbose_interval=10, warm_start=False, weights_init=None)"
      ]
     },
     "execution_count": 17,
     "metadata": {},
     "output_type": "execute_result"
    }
   ],
   "source": [
    "n_classes = len(np.unique(y_train))\n",
    "# covariance_type=covar_type ['spherical', 'diag', 'tied', 'full']\n",
    "# \n",
    "# Try GMMs using different types of covariances.\n",
    "#classifiers = dict((covar_type, GMM(n_components=n_classes,\n",
    "#                    covariance_type=covar_type, init_params='wc', n_iter=20))\n",
    "#                   for covar_type in ['spherical', 'diag', 'tied', 'full'])\n",
    "\n",
    "\n",
    "gmm_clf = GMM(n_components=n_classes, covariance_type='spherical', n_init=5, means_init=pd.DataFrame(X_train_t_res).groupby(y_train_t_res).mean().values)\n",
    "# gmm_clf = GMM(n_components=500, covariance_type='spherical', n_init=50)\n",
    "# gmm_clf.fit(X_train_t_res, y_train_t_res) \n",
    "gmm_clf.fit(X_train_t_res) \n",
    "# means_init\n",
    "\n",
    "# gmm_clf?\n",
    "# https://stackoverflow.com/questions/58714783/unstable-accuracy-of-gaussian-mixture-model-classifier-from-sklearn\n",
    "# GMM?\n",
    "# https://stackoverflow.com/questions/58714783/unstable-accuracy-of-gaussian-mixture-model-classifier-from-sklearn\n",
    "# https://www.researchgate.net/post/How_can_I_use_a_Gaussian_mixture_model_for_the_classification"
   ]
  },
  {
   "cell_type": "code",
   "execution_count": 18,
   "metadata": {},
   "outputs": [
    {
     "name": "stdout",
     "output_type": "stream",
     "text": [
      "              precision    recall  f1-score   support\n",
      "\n",
      "           0       0.42      0.62      0.50        24\n",
      "           1       0.00      0.00      0.00         8\n",
      "           2       0.23      0.35      0.28        26\n",
      "           3       0.58      0.48      0.53        29\n",
      "           4       0.33      0.28      0.30        36\n",
      "           5       0.95      0.83      0.89        24\n",
      "           6       0.51      0.47      0.49        51\n",
      "\n",
      "    accuracy                           0.46       198\n",
      "   macro avg       0.43      0.43      0.43       198\n",
      "weighted avg       0.47      0.46      0.46       198\n",
      "\n"
     ]
    }
   ],
   "source": [
    "# Standard Scaler, full\n",
    "y_pred = gmm_clf.predict(X_test_t) \n",
    "#classification_report(y_test_enc, y_pred, output_dict=True)\n",
    "print(classification_report(y_test_enc, y_pred, output_dict=False))"
   ]
  },
  {
   "cell_type": "code",
   "execution_count": 230,
   "metadata": {},
   "outputs": [
    {
     "name": "stdout",
     "output_type": "stream",
     "text": [
      "              precision    recall  f1-score   support\n",
      "\n",
      "           0       0.44      0.50      0.47        24\n",
      "           1       0.67      0.25      0.36         8\n",
      "           2       0.24      0.42      0.31        26\n",
      "           3       0.75      0.62      0.68        29\n",
      "           4       0.59      0.53      0.56        36\n",
      "           5       0.95      0.83      0.89        24\n",
      "           6       0.62      0.55      0.58        51\n",
      "\n",
      "    accuracy                           0.56       198\n",
      "   macro avg       0.61      0.53      0.55       198\n",
      "weighted avg       0.61      0.56      0.57       198\n",
      "\n"
     ]
    }
   ],
   "source": [
    "# Standard Scaler, sperical\n",
    "y_pred = gmm_clf.predict(X_test_t) \n",
    "#classification_report(y_test_enc, y_pred, output_dict=True)\n",
    "print(classification_report(y_test_enc, y_pred, output_dict=False))"
   ]
  },
  {
   "cell_type": "code",
   "execution_count": 193,
   "metadata": {},
   "outputs": [
    {
     "name": "stdout",
     "output_type": "stream",
     "text": [
      "              precision    recall  f1-score   support\n",
      "\n",
      "           0       0.15      0.79      0.25        24\n",
      "           1       0.00      0.00      0.00         8\n",
      "           2       0.00      0.00      0.00        26\n",
      "           3       0.00      0.00      0.00        29\n",
      "           4       0.22      0.14      0.17        36\n",
      "           5       0.00      0.00      0.00        24\n",
      "           6       0.21      0.20      0.20        51\n",
      "\n",
      "    accuracy                           0.17       198\n",
      "   macro avg       0.08      0.16      0.09       198\n",
      "weighted avg       0.11      0.17      0.11       198\n",
      "\n"
     ]
    },
    {
     "name": "stderr",
     "output_type": "stream",
     "text": [
      "/home/christian/.venvs/py36/lib/python3.6/site-packages/sklearn/metrics/classification.py:1437: UndefinedMetricWarning: Precision and F-score are ill-defined and being set to 0.0 in labels with no predicted samples.\n",
      "  'precision', 'predicted', average, warn_for)\n"
     ]
    }
   ],
   "source": [
    "\n",
    "# Robust Scaler\n",
    "y_pred = gmm_clf.predict(X_test_t) \n",
    "#classification_report(y_test_enc, y_pred, output_dict=True)\n",
    "print(classification_report(y_test_enc, y_pred, output_dict=False))"
   ]
  },
  {
   "cell_type": "markdown",
   "metadata": {},
   "source": [
    "## SVM"
   ]
  },
  {
   "cell_type": "code",
   "execution_count": 207,
   "metadata": {},
   "outputs": [
    {
     "name": "stderr",
     "output_type": "stream",
     "text": [
      "/home/christian/.venvs/py36/lib/python3.6/site-packages/sklearn/svm/base.py:929: ConvergenceWarning: Liblinear failed to converge, increase the number of iterations.\n",
      "  \"the number of iterations.\", ConvergenceWarning)\n"
     ]
    },
    {
     "data": {
      "text/plain": [
       "LinearSVC(C=1.0, class_weight=None, dual=True, fit_intercept=True,\n",
       "          intercept_scaling=1, loss='squared_hinge', max_iter=1000,\n",
       "          multi_class='ovr', penalty='l2', random_state=None, tol=0.0001,\n",
       "          verbose=0)"
      ]
     },
     "execution_count": 207,
     "metadata": {},
     "output_type": "execute_result"
    }
   ],
   "source": [
    "svm_clf = svm.LinearSVC()\n",
    "svm_clf.fit(X_train_t_res, y_train_t_res) \n",
    "# Alternative:  class_weight='balanced',"
   ]
  },
  {
   "cell_type": "code",
   "execution_count": 209,
   "metadata": {},
   "outputs": [
    {
     "name": "stdout",
     "output_type": "stream",
     "text": [
      "              precision    recall  f1-score   support\n",
      "\n",
      "           0       0.90      0.79      0.84        24\n",
      "           1       0.46      0.75      0.57         8\n",
      "           2       0.69      0.69      0.69        26\n",
      "           3       0.90      0.90      0.90        29\n",
      "           4       0.83      0.81      0.82        36\n",
      "           5       0.88      0.96      0.92        24\n",
      "           6       0.90      0.84      0.87        51\n",
      "\n",
      "    accuracy                           0.83       198\n",
      "   macro avg       0.79      0.82      0.80       198\n",
      "weighted avg       0.84      0.83      0.83       198\n",
      "\n"
     ]
    }
   ],
   "source": [
    "# Standard Scaler\n",
    "X_test_t = pipeline.transform(df_test)\n",
    "y_pred = svm_clf.predict(X_test_t) \n",
    "\n",
    "\n",
    "print(classification_report(y_test_enc, y_pred))\n",
    "# classification_report(y_test_enc, y_pred, output_dict=True)"
   ]
  },
  {
   "cell_type": "code",
   "execution_count": 195,
   "metadata": {},
   "outputs": [
    {
     "name": "stdout",
     "output_type": "stream",
     "text": [
      "              precision    recall  f1-score   support\n",
      "\n",
      "           0       0.45      0.38      0.41        24\n",
      "           1       0.31      0.62      0.42         8\n",
      "           2       0.31      0.38      0.34        26\n",
      "           3       0.58      0.66      0.61        29\n",
      "           4       0.59      0.36      0.45        36\n",
      "           5       0.88      0.58      0.70        24\n",
      "           6       0.75      0.86      0.80        51\n",
      "\n",
      "    accuracy                           0.58       198\n",
      "   macro avg       0.55      0.55      0.53       198\n",
      "weighted avg       0.60      0.58      0.57       198\n",
      "\n"
     ]
    },
    {
     "data": {
      "text/plain": [
       "{'0': {'precision': 0.45,\n",
       "  'recall': 0.375,\n",
       "  'f1-score': 0.4090909090909091,\n",
       "  'support': 24},\n",
       " '1': {'precision': 0.3125,\n",
       "  'recall': 0.625,\n",
       "  'f1-score': 0.4166666666666667,\n",
       "  'support': 8},\n",
       " '2': {'precision': 0.3125,\n",
       "  'recall': 0.38461538461538464,\n",
       "  'f1-score': 0.3448275862068966,\n",
       "  'support': 26},\n",
       " '3': {'precision': 0.5757575757575758,\n",
       "  'recall': 0.6551724137931034,\n",
       "  'f1-score': 0.6129032258064515,\n",
       "  'support': 29},\n",
       " '4': {'precision': 0.5909090909090909,\n",
       "  'recall': 0.3611111111111111,\n",
       "  'f1-score': 0.4482758620689656,\n",
       "  'support': 36},\n",
       " '5': {'precision': 0.875,\n",
       "  'recall': 0.5833333333333334,\n",
       "  'f1-score': 0.7000000000000001,\n",
       "  'support': 24},\n",
       " '6': {'precision': 0.7457627118644068,\n",
       "  'recall': 0.8627450980392157,\n",
       "  'f1-score': 0.8,\n",
       "  'support': 51},\n",
       " 'accuracy': 0.5757575757575758,\n",
       " 'macro avg': {'precision': 0.5517756255044391,\n",
       "  'recall': 0.5495681915560212,\n",
       "  'f1-score': 0.5331091785485558,\n",
       "  'support': 198},\n",
       " 'weighted avg': {'precision': 0.5981242185595037,\n",
       "  'recall': 0.5757575757575758,\n",
       "  'f1-score': 0.5738846311907289,\n",
       "  'support': 198}}"
      ]
     },
     "execution_count": 195,
     "metadata": {},
     "output_type": "execute_result"
    }
   ],
   "source": [
    "# RObust Scaler\n",
    "X_test_t = pipeline.transform(df_test)\n",
    "y_pred = svm_clf.predict(X_test_t) \n",
    "\n",
    "\n",
    "print(classification_report(y_test_enc, y_pred))\n",
    "classification_report(y_test_enc, y_pred, output_dict=True)"
   ]
  },
  {
   "cell_type": "code",
   "execution_count": null,
   "metadata": {},
   "outputs": [],
   "source": []
  },
  {
   "cell_type": "markdown",
   "metadata": {},
   "source": [
    "## Generate Report"
   ]
  },
  {
   "cell_type": "code",
   "execution_count": 196,
   "metadata": {},
   "outputs": [],
   "source": [
    "np.set_printoptions(precision=2)"
   ]
  },
  {
   "cell_type": "code",
   "execution_count": 143,
   "metadata": {},
   "outputs": [
    {
     "data": {
      "text/plain": [
       "array([[ 8,  6,  4,  0,  3,  0,  3],\n",
       "       [ 1,  6,  0,  0,  0,  0,  1],\n",
       "       [ 2,  6,  9,  1,  2,  0,  6],\n",
       "       [ 0,  4,  5, 17,  3,  0,  0],\n",
       "       [ 4, 11,  9,  1,  9,  0,  2],\n",
       "       [ 0,  6,  3,  3,  0, 11,  1],\n",
       "       [ 1,  3,  2,  0,  0,  0, 45]])"
      ]
     },
     "metadata": {},
     "output_type": "display_data"
    },
    {
     "data": {
      "text/plain": [
       "array(['A', 'E', 'F', 'L', 'N', 'T', 'W'], dtype=object)"
      ]
     },
     "execution_count": 143,
     "metadata": {},
     "output_type": "execute_result"
    }
   ],
   "source": [
    "display(confusion_matrix(y_test_enc, y_pred))\n",
    "label_encoder.classes_"
   ]
  },
  {
   "cell_type": "code",
   "execution_count": 144,
   "metadata": {},
   "outputs": [
    {
     "data": {
      "image/png": "[encoded data removed]",
      "text/plain": [
       "<Figure size 432x288 with 2 Axes>"
      ]
     },
     "metadata": {
      "needs_background": "light"
     },
     "output_type": "display_data"
    }
   ],
   "source": [
    "labels = [emotion_codes[x] for x in label_encoder.classes_]\n",
    "plot_confusionmatrix(svm_clf, y_test_enc, y_pred, labels, cmap=plt.cm.Blues)"
   ]
  },
  {
   "cell_type": "code",
   "execution_count": 145,
   "metadata": {},
   "outputs": [
    {
     "data": {
      "text/plain": [
       "array([[ 1.5 ,  3.04,  0.87],\n",
       "       [-1.5 ,  5.73, -0.46]])"
      ]
     },
     "execution_count": 145,
     "metadata": {},
     "output_type": "execute_result"
    }
   ],
   "source": [
    "from sklearn.pipeline import FeatureUnion\n",
    "from sklearn.decomposition import PCA, TruncatedSVD\n",
    "union = FeatureUnion([(\"pca\", PCA(n_components=1)),\n",
    "                       (\"svd\", TruncatedSVD(n_components=2))])\n",
    "X = [[0., 1., 3], [2., 2., 5]]\n",
    "union.fit_transform(X)\n",
    "#array([[ 1.5       ,  3.0...,  0.8...],\n",
    "#       [-1.5       ,  5.7..., -0.4...]])"
   ]
  }
 ],
 "metadata": {
  "kernelspec": {
   "display_name": "Python 3",
   "language": "python",
   "name": "python3"
  },
  "language_info": {
   "codemirror_mode": {
    "name": "ipython",
    "version": 3
   },
   "file_extension": ".py",
   "mimetype": "text/x-python",
   "name": "python",
   "nbconvert_exporter": "python",
   "pygments_lexer": "ipython3",
   "version": "3.6.8"
  }
 },
 "nbformat": 4,
 "nbformat_minor": 2
}
